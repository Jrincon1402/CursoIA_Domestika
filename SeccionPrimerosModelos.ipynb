{
 "cells": [
  {
   "cell_type": "markdown",
   "metadata": {},
   "source": [
    "Este es un notebook dedidacado al estudio de ML desde el curso de domestika Introduccion a la IA con Python de Rodrigo Montemayor.\n",
    "\n",
    "Primero aprendimos sobre la instalación de los recursos necesarios para llevas a cabo el curso; si bien se recomienda usar Colab personalmente opte por utilizar mi computador personal y Visual Studio Code.\n",
    "\n",
    "Modelos Basicos de ML:\n",
    "\n",
    "Modelos de regresion son aquellos que predicen un dato continuo asi como precios, acciones y demas.\n",
    "Modelos de clasificacion son aquellos que se enfocan en seleccionar datos y asiganarlos a la categoria correcta.\n",
    "\n",
    "Aprendizaje supervisado: Este necesita que la data este etiquetada para poder prodecir el el valor futuro\n",
    "Aprendizaje no supervisado: Este no requiere de una etiqueta ya que se basa en el reconocimiento de patrones con el finde predicir el valor o de hacer cluster de los datos para poder agruparlos dependiendo de las caracteristicas que este encuentre.\n",
    "Aprendizaje por refuerzo: Este se basa en la retroalimentacion continua donde se le dice al modelo si lo hizo bien o mal, dandole un puntaje y de esta forma el modelo busaca obtener los mejores resultados con el fin de aprender a conseguir el mejor puntaje. Asi como la IA aprendio a jugar ajedrez.\n",
    "\n",
    "EN EL ML Los datos los son todo, buenos datos llevan a buenos modelo.\n",
    "\n",
    "Una seleccion de los datos debe destinarse al aprendizaje o entrenamiento, la otra se debe destinar a la evaluacion del modelo.\n",
    "\n",
    "\n",
    "\n",
    "\n",
    "AQUI HAREMOS NUESTRO PRIMER MODELO"
   ]
  },
  {
   "cell_type": "code",
   "execution_count": null,
   "metadata": {},
   "outputs": [],
   "source": []
  }
 ],
 "metadata": {
  "kernelspec": {
   "display_name": "Python 3",
   "language": "python",
   "name": "python3"
  },
  "language_info": {
   "codemirror_mode": {
    "name": "ipython",
    "version": 3
   },
   "file_extension": ".py",
   "mimetype": "text/x-python",
   "name": "python",
   "nbconvert_exporter": "python",
   "pygments_lexer": "ipython3",
   "version": "3.12.5"
  }
 },
 "nbformat": 4,
 "nbformat_minor": 2
}
